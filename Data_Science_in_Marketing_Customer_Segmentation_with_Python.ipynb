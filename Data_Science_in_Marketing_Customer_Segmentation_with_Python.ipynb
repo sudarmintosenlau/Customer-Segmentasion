{
  "nbformat": 4,
  "nbformat_minor": 0,
  "metadata": {
    "colab": {
      "name": "Data Science in Marketing : Customer Segmentation with Python",
      "provenance": [],
      "collapsed_sections": [],
      "authorship_tag": "ABX9TyNgiKaakoIko8iZY4YcqYW7",
      "include_colab_link": true
    },
    "kernelspec": {
      "name": "python3",
      "display_name": "Python 3"
    },
    "language_info": {
      "name": "python"
    }
  },
  "cells": [
    {
      "cell_type": "markdown",
      "metadata": {
        "id": "view-in-github",
        "colab_type": "text"
      },
      "source": [
        "<a href=\"https://colab.research.google.com/github/sudarmintosenlau/Customer-Segmentasion/blob/main/Data_Science_in_Marketing_Customer_Segmentation_with_Python.ipynb\" target=\"_parent\"><img src=\"https://colab.research.google.com/assets/colab-badge.svg\" alt=\"Open In Colab\"/></a>"
      ]
    },
    {
      "cell_type": "markdown",
      "source": [
        "## SECTION 1: Customer Segmentation with Python - Part 1"
      ],
      "metadata": {
        "id": "ya51T3gcffy1"
      }
    },
    {
      "cell_type": "markdown",
      "source": [
        "## Pengantar\n",
        "\n",
        "Suatu pagi kamu terbangun dari tidur dan mendapati ada sebuah e-mail masuk dari e-commerce idaman kamu. Kamu tau bahwa ini bukan sekedar email promosi biasa karena satu minggu lalu kamu baru saja menyelesaikan proses akhir rekruitment di perusahaan tersebut.\n",
        "\n",
        "\"SELAMAT BERGABUNG BERSAMA KAMI\", sebuah kalimat yang memiliki arti mendalam setelah kamu berusaha mengejar cita-cita kamu untuk menjadi data scientist. Hingga akhirnya cita-cita kamu tercapai.\n",
        "\n",
        "Hari pertama pun tiba, kamu menyelesaikan orientasi dan akhirnya bertemu dengan tim data scientist di perusahaan tersebut. Kamu mulai beradaptasi dan segera mendapatkan tugas pertama kamu sebagai seorang junior data scientist.\n",
        "\n",
        "Perusahaan kamu sedang berusaha untuk mengenal lebih baik pelanggannya. Tujuannya agar perusahaan kamu dapat membuat strategi pemasaran yang lebih tepat dan juga efisien bagi tiap tiap pelanggan. Kamu di diberikan tugas agar dapat memberikan rekomendasi untuk menyelesaikan permasalahan tersebut.\n",
        "\n",
        "Kamu teringat bahwa beberapa bulan sebelumnya kamu pernah belajar menghadapi permasalahan serupa di tempat kamu belajar. Salah satu teknik yang bisa dilakukan untuk mengenal lebih baik pelanggan kamu adalah dengan melakukan segmentasi pelanggan. Yaitu dengan mengelompokkan pelanggan-pelanggan yang ada berdasarkan kesamaan karakter dari pelanggan tersebut. Untuk melakukan hal tersebut kamu akan menggunakan teknik unsupervised machine learning.\n",
        "\n",
        "Salah satunya teknik yang dapat digunakan adalah pengaplikasian machine learning menggunakan algoritma K-Prototypes.  Algoritma K-Prototypes merupakan gabungan dari K-Means dan juga K-Modes yang dapat digunakan untuk melakukan segmentasi dengan data."
      ],
      "metadata": {
        "id": "MljGNyAm9Plr"
      }
    },
    {
      "cell_type": "markdown",
      "source": [
        "Mempersiapkan Library dan Data\n",
        "Kamu sangat bersemangat untuk segera menyelesaikan masalah tersebut. Kamu mulai dari mencari tau data apa yang tersedia dan mengumpulkan data yang dibutuhkan terkait pelanggan. Seperti dikebanyakan tempat, kamu berkoordinasi dengan tim data engineer untuk mendapatkan data yang di butuhkan dan berdiskusi dengan tim bisnis untuk memahami arti dari data-data yang kamu miliki.\n",
        "\n",
        "Sampai akhirnya kamu mendapatkan data yang kamu perlukan.\n",
        "\n",
        "![image](https://user-images.githubusercontent.com/62486840/148084560-96c0294e-34e6-4cea-b299-a098103cf859.png)\n",
        "\n",
        "Data tersebut memiliki tujuh kolom dengan penjelasan sebagai berikut:\n",
        "\n",
        "* Customer ID: Kode pelanggan dengan format campuran teks CUST- diikuti angka\n",
        "* Nama Pelanggan: Nama dari pelanggan dengan format teks tentunya\n",
        "* Jenis Kelamin: Jenis kelamin dari pelanggan, hanya terdapat dua isi data kategori yaitu Pria dan Wanita\n",
        "* Umur: Umur dari pelanggan dalam format angka\n",
        "* Profesi: Profesi dari pelanggan, juga bertipe teks kategori yang terdiri dari Wiraswasta, Pelajar, Professional, Ibu Rumah Tangga, dan Mahasiswa.\n",
        "* Tipe Residen: Tipe tempat tinggal dari pelanggan kita, untuk dataset ini hanya ada dua kategori: Cluster dan Sector.\n",
        "* Nilai Belanja Setahun: Merupakan total belanja yang sudah dikeluarkan oleh pelanggan tersebut."
      ],
      "metadata": {
        "id": "NphYqBwz-HlQ"
      }
    },
    {
      "cell_type": "markdown",
      "source": [
        "## Mempersiapkan Library\n",
        "\n",
        "Masalah ini akan dapat di selesaikan dengan menggunakan bantuan library - library di bawah ini:\n",
        "\n",
        "* Pandas, digunakan untuk melakukan pemrosesan analisis data\n",
        "* Matplotlib, digunakan sebagai dasar untuk melakukan visualisasi data\n",
        "* Seaborn, digunakan di atas matplotlib untuk melakukan data visualisasi yang lebih menarik\n",
        "* Scikit - Learn, digunakan untuk mempersiapkan data sebelum dilakukan permodelan\n",
        "* kmodes, digunakan untuk melakukan permodelan menggunakan algoritma K-Modes dan K-Prototypes.\n",
        "* Pickle, digunakan untuk melakukan penyimpanan dari model yang akan di buat."
      ],
      "metadata": {
        "id": "830a3KXi-7DR"
      }
    },
    {
      "cell_type": "code",
      "source": [
        "import pandas as pd  \n",
        "import matplotlib.pyplot as plt  \n",
        "import seaborn as sns  \n",
        "from sklearn.preprocessing import LabelEncoder  \n",
        "  \n"
      ],
      "metadata": {
        "id": "7kAHy4l4_I1A"
      },
      "execution_count": null,
      "outputs": []
    },
    {
      "cell_type": "code",
      "source": [
        "import pickle  \n",
        "from pathlib import Path"
      ],
      "metadata": {
        "id": "pMOATY-vzlWQ"
      },
      "execution_count": null,
      "outputs": []
    },
    {
      "cell_type": "markdown",
      "source": [
        "## Membaca Data Pelanggan\n",
        "\n",
        "Langkah pertama yang perlu di lakukan adalah membaca data tersebut yang semula adalah textfile menjadi pandas dataframe.\n"
      ],
      "metadata": {
        "id": "ebAn4CNTzn6Z"
      }
    },
    {
      "cell_type": "code",
      "source": [
        "import pandas as pd\n",
        "\n",
        "# import dataset  \n",
        "df = pd.read_csv(\"https://storage.googleapis.com/dqlab-dataset/customer_segments.txt\", sep=\"\\t\")  \n",
        "  \n",
        "# menampilkan data  \n",
        "print(df.head())"
      ],
      "metadata": {
        "colab": {
          "base_uri": "https://localhost:8080/"
        },
        "id": "PcnnfaX1z60-",
        "outputId": "3d276de1-8f3f-4ad4-abbc-b6796cb0a4bb"
      },
      "execution_count": null,
      "outputs": [
        {
          "output_type": "stream",
          "name": "stdout",
          "text": [
            "  Customer_ID       Nama Pelanggan  ... Tipe Residen  NilaiBelanjaSetahun\n",
            "0    CUST-001         Budi Anggara  ...       Sector              9497927\n",
            "1    CUST-002     Shirley Ratuwati  ...      Cluster              2722700\n",
            "2    CUST-003         Agus Cahyono  ...      Cluster              5286429\n",
            "3    CUST-004     Antonius Winarta  ...      Cluster              5204498\n",
            "4    CUST-005  Ibu Sri Wahyuni, IR  ...      Cluster             10615206\n",
            "\n",
            "[5 rows x 7 columns]\n"
          ]
        }
      ]
    },
    {
      "cell_type": "markdown",
      "source": [
        "## Melihat Informasi dari Data\n",
        "\n",
        "Selanjutnya kita perlu melihat informasi dari data yang ada. Sehingga dengan mengetahui jumlah baris dan kolom, nama kolom, identifikasi null values,  dan juga mengetahui tipe data dengan mudah."
      ],
      "metadata": {
        "id": "jdLkOq2j0OLA"
      }
    },
    {
      "cell_type": "code",
      "source": [
        "df.info()"
      ],
      "metadata": {
        "colab": {
          "base_uri": "https://localhost:8080/"
        },
        "id": "o6YGZ_1Z0R73",
        "outputId": "6f08b3a0-b3a7-4b05-96db-0dbb4904be4b"
      },
      "execution_count": null,
      "outputs": [
        {
          "output_type": "stream",
          "name": "stdout",
          "text": [
            "<class 'pandas.core.frame.DataFrame'>\n",
            "RangeIndex: 50 entries, 0 to 49\n",
            "Data columns (total 7 columns):\n",
            " #   Column               Non-Null Count  Dtype \n",
            "---  ------               --------------  ----- \n",
            " 0   Customer_ID          50 non-null     object\n",
            " 1   Nama Pelanggan       50 non-null     object\n",
            " 2   Jenis Kelamin        50 non-null     object\n",
            " 3   Umur                 50 non-null     int64 \n",
            " 4   Profesi              50 non-null     object\n",
            " 5   Tipe Residen         50 non-null     object\n",
            " 6   NilaiBelanjaSetahun  50 non-null     int64 \n",
            "dtypes: int64(2), object(5)\n",
            "memory usage: 2.9+ KB\n"
          ]
        }
      ]
    },
    {
      "cell_type": "markdown",
      "source": [
        "![image](https://user-images.githubusercontent.com/62486840/148087072-83ab9f7d-58a9-4005-8739-f6b79a04a02e.png)\n"
      ],
      "metadata": {
        "id": "I8CCN3K10z0e"
      }
    },
    {
      "cell_type": "markdown",
      "source": [
        "## Kesimpulan\n",
        "\n",
        "Setelah melakukan pemanggilan data dan melihat informasi data yang kita miliki, kita akhirnya mengetahui bahwa:\n",
        "\n",
        "Data yang akan digunakan terdiri dari 50 baris dan 7 kolom\n",
        "Tidak ada nilai null pada data\n",
        "Dua kolom memiliki tipe data numeric dan lima data bertipe string\n",
        "Tips:\n",
        "\n",
        "Dalam setiap project machine learning, kita harus memahami informasi dasar dari data yang kita miliki sebelum melakukan analisa lebih lanjut. Dengan melakukan hal ini, kita bisa memastikan tipe data dari masing-masing kolom sudah benar, mengetahui apakah ada data null di tiap tiap kolom, dan juga mengetahui nama-nama kolom di dataset yang kita gunakan. Informasi ini nantinya akan menentukan proses apa yang perlu kita lakukan selanjutnya."
      ],
      "metadata": {
        "id": "JgNdZgMi1EXu"
      }
    },
    {
      "cell_type": "markdown",
      "source": [
        "## Melakukan Eksplorasi Data\n",
        "\n",
        "Pada tahap sebelumnya kita sudah menyiapkan data dan melihat informasi dasar dari data yang kamu miliki.\n",
        "\n",
        "Selanjutnya kita perlu melakukan eksplorasi data untuk lebih mengenal dataset yang akan digunakan dan akan melakukan eksplorasi untuk data numerik dan juga data kategorikal."
      ],
      "metadata": {
        "id": "W8uPuyOr1IzV"
      }
    },
    {
      "cell_type": "markdown",
      "source": [
        "## Eksplorasi Data Numerik\n",
        "\n",
        "Pertama kita perlu melihat distribusi data dari data yang berjenis numerik. Disini kita akan menggunakan boxplot dan juga histogram untuk melihat distribusi datanya. Untuk membuat grafik tersebut, kita perlu menyiapkan kolom mana yang merupakan kolom numerik. Kemudian menggunakan library seaborn untuk membuat plot masing-masing kolom numerik, yaitu 'Umur' dan 'NilaiBelanjaSetahun'.\n"
      ],
      "metadata": {
        "id": "kDcID-ia1R09"
      }
    },
    {
      "cell_type": "code",
      "source": [
        "import matplotlib.pyplot as plt\n",
        "import seaborn as sns\n",
        "sns.set(style='white')\n",
        "import pandas as pd\n",
        "df = pd.read_csv(\"https://storage.googleapis.com/dqlab-dataset/customer_segments.txt\", sep=\"\\t\")\n",
        "plt.clf()\n",
        "  \n",
        "# Fungsi untuk membuat plot  \n",
        "def observasi_num(features):  \n",
        "    fig, axs = plt.subplots(2, 2, figsize=(10, 9))\n",
        "    for i, kol in enumerate(features):\n",
        "\t    sns.boxplot(df[kol], ax = axs[i][0])\n",
        "\t    sns.distplot(df[kol], ax = axs[i][1])   \n",
        "\t    axs[i][0].set_title('mean = %.2f\\n median = %.2f\\n std = %.2f'%(df[kol].mean(), df[kol].median(), df[kol].std()))\n",
        "    plt.setp(axs)\n",
        "    plt.tight_layout()\n",
        "    plt.show()  \n",
        "  \n",
        "# Memanggil fungsi untuk membuat Plot untuk data numerik  \n",
        "kolom_numerik = ['Umur','NilaiBelanjaSetahun']\n",
        "observasi_num(kolom_numerik)"
      ],
      "metadata": {
        "id": "GJy-FFWC1e8O",
        "colab": {
          "base_uri": "https://localhost:8080/",
          "height": 1000
        },
        "outputId": "c67ae855-a6ae-4f98-bb24-9ca5efdfed31"
      },
      "execution_count": null,
      "outputs": [
        {
          "output_type": "stream",
          "name": "stderr",
          "text": [
            "/usr/local/lib/python3.7/dist-packages/seaborn/_decorators.py:43: FutureWarning: Pass the following variable as a keyword arg: x. From version 0.12, the only valid positional argument will be `data`, and passing other arguments without an explicit keyword will result in an error or misinterpretation.\n",
            "  FutureWarning\n",
            "/usr/local/lib/python3.7/dist-packages/seaborn/distributions.py:2619: FutureWarning: `distplot` is a deprecated function and will be removed in a future version. Please adapt your code to use either `displot` (a figure-level function with similar flexibility) or `histplot` (an axes-level function for histograms).\n",
            "  warnings.warn(msg, FutureWarning)\n",
            "/usr/local/lib/python3.7/dist-packages/seaborn/_decorators.py:43: FutureWarning: Pass the following variable as a keyword arg: x. From version 0.12, the only valid positional argument will be `data`, and passing other arguments without an explicit keyword will result in an error or misinterpretation.\n",
            "  FutureWarning\n",
            "/usr/local/lib/python3.7/dist-packages/seaborn/distributions.py:2619: FutureWarning: `distplot` is a deprecated function and will be removed in a future version. Please adapt your code to use either `displot` (a figure-level function with similar flexibility) or `histplot` (an axes-level function for histograms).\n",
            "  warnings.warn(msg, FutureWarning)\n"
          ]
        },
        {
          "output_type": "stream",
          "name": "stdout",
          "text": [
            "  adjustable: {'box', 'datalim'}\n",
            "  agg_filter: a filter function, which takes a (m, n, 3) float array and a dpi value, and returns a (m, n, 3) array\n",
            "  alpha: float or None\n",
            "  anchor: 2-tuple of floats or {'C', 'SW', 'S', 'SE', ...}\n",
            "  animated: bool\n",
            "  aspect: {'auto', 'equal'} or num\n",
            "  autoscale_on: bool\n",
            "  autoscalex_on: bool\n",
            "  autoscaley_on: bool\n",
            "  axes_locator: Callable[[Axes, Renderer], Bbox]\n",
            "  axisbelow: bool or 'line'\n",
            "  clip_box: `.Bbox`\n",
            "  clip_on: bool\n",
            "  clip_path: Patch or (Path, Transform) or None\n",
            "  contains: callable\n",
            "  facecolor: color\n",
            "  fc: color\n",
            "  figure: `.Figure`\n",
            "  frame_on: bool\n",
            "  gid: str\n",
            "  in_layout: bool\n",
            "  label: object\n",
            "  navigate: bool\n",
            "  navigate_mode: unknown\n",
            "  path_effects: `.AbstractPathEffect`\n",
            "  picker: None or bool or float or callable\n",
            "  position: [left, bottom, width, height] or `~matplotlib.transforms.Bbox`\n",
            "  prop_cycle: unknown\n",
            "  rasterization_zorder: float or None\n",
            "  rasterized: bool or None\n",
            "  sketch_params: (scale: float, length: float, randomness: float)\n",
            "  snap: bool or None\n",
            "  subplotspec: unknown\n",
            "  title: str\n",
            "  transform: `.Transform`\n",
            "  url: str\n",
            "  visible: bool\n",
            "  xbound: unknown\n",
            "  xlabel: str\n",
            "  xlim: (bottom: float, top: float)\n",
            "  xmargin: float greater than -0.5\n",
            "  xscale: {\"linear\", \"log\", \"symlog\", \"logit\", ...}\n",
            "  xticklabels: List[str]\n",
            "  xticks: unknown\n",
            "  ybound: unknown\n",
            "  ylabel: str\n",
            "  ylim: (bottom: float, top: float)\n",
            "  ymargin: float greater than -0.5\n",
            "  yscale: {\"linear\", \"log\", \"symlog\", \"logit\", ...}\n",
            "  yticklabels: List[str]\n",
            "  yticks: unknown\n",
            "  zorder: float\n"
          ]
        },
        {
          "output_type": "display_data",
          "data": {
            "text/plain": [
              "<Figure size 432x288 with 0 Axes>"
            ]
          },
          "metadata": {}
        },
        {
          "output_type": "display_data",
          "data": {
            "image/png": "[encoded data removed]",
            "text/plain": [
              "<Figure size 720x648 with 4 Axes>"
            ]
          },
          "metadata": {}
        }
      ]
    },
    {
      "cell_type": "markdown",
      "source": [
        "## Eksplorasi Data Kategorikal\n",
        "\n",
        "Selain data numerikal, kita juga perlu melihat bagaimana persebaran data pada kolom-kolom yang memiliki jenis kategorikal yaitu Jenis Kelamin, Profesi dan Tipe Residen. Kamu dapat melakukan hal ini dengan menggunakan countplot dari library seaborn."
      ],
      "metadata": {
        "id": "RbT1Mbh9MvkK"
      }
    },
    {
      "cell_type": "code",
      "source": [
        "# Menyiapkan kolom kategorikal  \n",
        "kolom_kategorikal = ['Jenis Kelamin','Profesi','Tipe Residen']  \n",
        "\n",
        "# Membuat canvas\n",
        "fig, axs = plt.subplots(3,1,figsize=(7,10)) \n",
        "\n",
        "# Membuat plot untuk setiap kolom kategorikal  \n",
        "for i, kol in enumerate(kolom_kategorikal):  \n",
        "    # Membuat Plot\n",
        "    sns.countplot(df[kol], order = df[kol].value_counts().index, ax = axs[i])  \n",
        "    axs[i].set_title('\\nCount Plot %s\\n'%(kol), fontsize=15)  \n",
        "      \n",
        "    # Memberikan anotasi  \n",
        "    for p in axs[i].patches:  \n",
        "        axs[i].annotate(format(p.get_height(), '.0f'),  \n",
        "                        (p.get_x() + p.get_width() / 2., p.get_height()),  \n",
        "                        ha = 'center',  \n",
        "                        va = 'center',  \n",
        "                        xytext = (0, 10),  \n",
        "                        textcoords = 'offset points')\n",
        "          \n",
        "    # Setting Plot  \n",
        "    sns.despine(right=True,top = True, left = True)  \n",
        "    axs[i].axes.yaxis.set_visible(False) \n",
        "    plt.setp(axs[i])\n",
        "    plt.tight_layout()\n",
        "\n",
        "# Tampilkan plot\n",
        "plt.show()"
      ],
      "metadata": {
        "colab": {
          "base_uri": "https://localhost:8080/",
          "height": 1000
        },
        "id": "908TzfFfM4xa",
        "outputId": "2525aa75-0b8e-480e-a0c3-6cbda2e3dad4"
      },
      "execution_count": null,
      "outputs": [
        {
          "output_type": "stream",
          "name": "stderr",
          "text": [
            "/usr/local/lib/python3.7/dist-packages/seaborn/_decorators.py:43: FutureWarning: Pass the following variable as a keyword arg: x. From version 0.12, the only valid positional argument will be `data`, and passing other arguments without an explicit keyword will result in an error or misinterpretation.\n",
            "  FutureWarning\n",
            "/usr/local/lib/python3.7/dist-packages/seaborn/_decorators.py:43: FutureWarning: Pass the following variable as a keyword arg: x. From version 0.12, the only valid positional argument will be `data`, and passing other arguments without an explicit keyword will result in an error or misinterpretation.\n",
            "  FutureWarning\n"
          ]
        },
        {
          "output_type": "stream",
          "name": "stdout",
          "text": [
            "  adjustable: {'box', 'datalim'}\n",
            "  agg_filter: a filter function, which takes a (m, n, 3) float array and a dpi value, and returns a (m, n, 3) array\n",
            "  alpha: float or None\n",
            "  anchor: 2-tuple of floats or {'C', 'SW', 'S', 'SE', ...}\n",
            "  animated: bool\n",
            "  aspect: {'auto', 'equal'} or num\n",
            "  autoscale_on: bool\n",
            "  autoscalex_on: bool\n",
            "  autoscaley_on: bool\n",
            "  axes_locator: Callable[[Axes, Renderer], Bbox]\n",
            "  axisbelow: bool or 'line'\n",
            "  clip_box: `.Bbox`\n",
            "  clip_on: bool\n",
            "  clip_path: Patch or (Path, Transform) or None\n",
            "  contains: callable\n",
            "  facecolor: color\n",
            "  fc: color\n",
            "  figure: `.Figure`\n",
            "  frame_on: bool\n",
            "  gid: str\n",
            "  in_layout: bool\n",
            "  label: object\n",
            "  navigate: bool\n",
            "  navigate_mode: unknown\n",
            "  path_effects: `.AbstractPathEffect`\n",
            "  picker: None or bool or float or callable\n",
            "  position: [left, bottom, width, height] or `~matplotlib.transforms.Bbox`\n",
            "  prop_cycle: unknown\n",
            "  rasterization_zorder: float or None\n",
            "  rasterized: bool or None\n",
            "  sketch_params: (scale: float, length: float, randomness: float)\n",
            "  snap: bool or None\n",
            "  subplotspec: unknown\n",
            "  title: str\n",
            "  transform: `.Transform`\n",
            "  url: str\n",
            "  visible: bool\n",
            "  xbound: unknown\n",
            "  xlabel: str\n",
            "  xlim: (bottom: float, top: float)\n",
            "  xmargin: float greater than -0.5\n",
            "  xscale: {\"linear\", \"log\", \"symlog\", \"logit\", ...}\n",
            "  xticklabels: List[str]\n",
            "  xticks: unknown\n",
            "  ybound: unknown\n",
            "  ylabel: str\n",
            "  ylim: (bottom: float, top: float)\n",
            "  ymargin: float greater than -0.5\n",
            "  yscale: {\"linear\", \"log\", \"symlog\", \"logit\", ...}\n",
            "  yticklabels: List[str]\n",
            "  yticks: unknown\n",
            "  zorder: float\n",
            "  adjustable: {'box', 'datalim'}\n",
            "  agg_filter: a filter function, which takes a (m, n, 3) float array and a dpi value, and returns a (m, n, 3) array\n",
            "  alpha: float or None\n",
            "  anchor: 2-tuple of floats or {'C', 'SW', 'S', 'SE', ...}\n",
            "  animated: bool\n",
            "  aspect: {'auto', 'equal'} or num\n",
            "  autoscale_on: bool\n",
            "  autoscalex_on: bool\n",
            "  autoscaley_on: bool\n",
            "  axes_locator: Callable[[Axes, Renderer], Bbox]\n",
            "  axisbelow: bool or 'line'\n",
            "  clip_box: `.Bbox`\n",
            "  clip_on: bool\n",
            "  clip_path: Patch or (Path, Transform) or None\n",
            "  contains: callable\n",
            "  facecolor: color\n",
            "  fc: color\n",
            "  figure: `.Figure`\n",
            "  frame_on: bool\n",
            "  gid: str\n",
            "  in_layout: bool\n",
            "  label: object\n",
            "  navigate: bool\n",
            "  navigate_mode: unknown\n",
            "  path_effects: `.AbstractPathEffect`\n",
            "  picker: None or bool or float or callable\n",
            "  position: [left, bottom, width, height] or `~matplotlib.transforms.Bbox`\n",
            "  prop_cycle: unknown\n",
            "  rasterization_zorder: float or None\n",
            "  rasterized: bool or None\n",
            "  sketch_params: (scale: float, length: float, randomness: float)\n",
            "  snap: bool or None\n",
            "  subplotspec: unknown\n",
            "  title: str\n",
            "  transform: `.Transform`\n",
            "  url: str\n",
            "  visible: bool\n",
            "  xbound: unknown\n",
            "  xlabel: str\n",
            "  xlim: (bottom: float, top: float)\n",
            "  xmargin: float greater than -0.5\n",
            "  xscale: {\"linear\", \"log\", \"symlog\", \"logit\", ...}\n",
            "  xticklabels: List[str]\n",
            "  xticks: unknown\n",
            "  ybound: unknown\n",
            "  ylabel: str\n",
            "  ylim: (bottom: float, top: float)\n",
            "  ymargin: float greater than -0.5\n",
            "  yscale: {\"linear\", \"log\", \"symlog\", \"logit\", ...}\n",
            "  yticklabels: List[str]\n",
            "  yticks: unknown\n",
            "  zorder: float\n",
            "  adjustable: {'box', 'datalim'}\n",
            "  agg_filter: a filter function, which takes a (m, n, 3) float array and a dpi value, and returns a (m, n, 3) array\n",
            "  alpha: float or None\n",
            "  anchor: 2-tuple of floats or {'C', 'SW', 'S', 'SE', ...}\n",
            "  animated: bool\n",
            "  aspect: {'auto', 'equal'} or num\n",
            "  autoscale_on: bool\n",
            "  autoscalex_on: bool\n",
            "  autoscaley_on: bool\n",
            "  axes_locator: Callable[[Axes, Renderer], Bbox]\n",
            "  axisbelow: bool or 'line'\n",
            "  clip_box: `.Bbox`\n",
            "  clip_on: bool\n",
            "  clip_path: Patch or (Path, Transform) or None\n",
            "  contains: callable\n",
            "  facecolor: color\n",
            "  fc: color\n",
            "  figure: `.Figure`\n",
            "  frame_on: bool\n",
            "  gid: str\n",
            "  in_layout: bool\n",
            "  label: object\n",
            "  navigate: bool\n",
            "  navigate_mode: unknown\n",
            "  path_effects: `.AbstractPathEffect`\n",
            "  picker: None or bool or float or callable\n",
            "  position: [left, bottom, width, height] or `~matplotlib.transforms.Bbox`\n",
            "  prop_cycle: unknown\n",
            "  rasterization_zorder: float or None\n",
            "  rasterized: bool or None\n",
            "  sketch_params: (scale: float, length: float, randomness: float)\n",
            "  snap: bool or None\n",
            "  subplotspec: unknown\n",
            "  title: str\n",
            "  transform: `.Transform`\n",
            "  url: str\n",
            "  visible: bool\n",
            "  xbound: unknown\n",
            "  xlabel: str\n",
            "  xlim: (bottom: float, top: float)\n",
            "  xmargin: float greater than -0.5\n",
            "  xscale: {\"linear\", \"log\", \"symlog\", \"logit\", ...}\n",
            "  xticklabels: List[str]\n",
            "  xticks: unknown\n",
            "  ybound: unknown\n",
            "  ylabel: str\n",
            "  ylim: (bottom: float, top: float)\n",
            "  ymargin: float greater than -0.5\n",
            "  yscale: {\"linear\", \"log\", \"symlog\", \"logit\", ...}\n",
            "  yticklabels: List[str]\n",
            "  yticks: unknown\n",
            "  zorder: float\n"
          ]
        },
        {
          "output_type": "stream",
          "name": "stderr",
          "text": [
            "/usr/local/lib/python3.7/dist-packages/seaborn/_decorators.py:43: FutureWarning: Pass the following variable as a keyword arg: x. From version 0.12, the only valid positional argument will be `data`, and passing other arguments without an explicit keyword will result in an error or misinterpretation.\n",
            "  FutureWarning\n"
          ]
        },
        {
          "output_type": "display_data",
          "data": {
            "image/png": "[encoded data removed]",
            "text/plain": [
              "<Figure size 504x720 with 3 Axes>"
            ]
          },
          "metadata": {}
        }
      ]
    },
    {
      "cell_type": "markdown",
      "source": [
        "![image](https://user-images.githubusercontent.com/62486840/148494431-20146ab5-6ac3-4310-a6a7-5f2d6a7c3eae.png)\n"
      ],
      "metadata": {
        "id": "pCPp5ec-9gJb"
      }
    },
    {
      "cell_type": "markdown",
      "source": [
        "**Kesimpulan**\n",
        "\n",
        "Dari hasil eksplorasi data tersebut kamu dapat mendapatkan informasi:\n",
        "\n",
        "* Rata-rata dari umur pelanggan adalah 37.5 tahun\n",
        "* Rata-rata dari nilai belanja setahun pelanggan adalah 7,069,874.82\n",
        "* Jenis kelamin pelanggan di dominasi oleh wanita sebanyak 41 orang (82%) dan laki-laki sebanyak 9 orang (18%)\n",
        "* Profesi terbanyak adalah Wiraswasta (40%) diikuti dengan Professional (36%) dan lainnya sebanyak (24%)\n",
        "* Dari seluruh pelanggan 64% dari mereka tinggal di Cluster dan 36% nya tinggal di Sektor\n",
        "\n",
        "**Tips:**\n",
        "\n",
        "Kita dapat mengenal data kita lebih jauh lagi pada tahapan eksplorasi data ini. Proses eksplorasi data bisa berupa *univariate* maupun *multivariate* data eksplorasi. Eksplorasi Data *Univariate* melihat karakteristik tiap-tiap *feature*, misalnya dengan melihat statistik deskriptif, membuat *histogram*, *kdeplot*, *countplot* maupun *boxplot*. Sedangkan untuk Eksplorasi Data *Multivariate*, kita melihat hubungan tiap variabel dengan variabel lainnya, misal kan dengan membuat korelasi *matrix*, melihat *predictive power*, *cross tabulasi*, dan lainnya.\n"
      ],
      "metadata": {
        "id": "w0XkItuA9mVL"
      }
    },
    {
      "cell_type": "markdown",
      "source": [
        "## Mempersiapkan Data Sebelum Permodelan\n",
        "\n",
        "Setiap machine learning model memiliki karakteristik yang berbeda-beda. Hal ini membuat kita harus mempersiapkan data yang kita miliki sebelum digunakan untuk melakukan permodelan. Sehingga dapat menyesuaikan dengan karakteristik yang dimiliki oleh tiap model dan mendapatkan hasil yang optimal.\n",
        "\n",
        "Kita berencana akan melakukan permodelan dengan menggunakan teknik unsupervised clustering. Algoritma yang akan digunakan adalah K-Prototypes. Salah satu faktor utama dalam algoritma ini adalah kita perlu menggunakan data yang skala antar variabelnya setara. Selain itu kita juga perlu melakukan encoding kolom - kolom kategorikal yang dimiliki menjadi numerik. Kemudian menggabungkan hasil pemrosesan data tersebut menjadi satu dataframe untuk digunakan dalam permodelan."
      ],
      "metadata": {
        "id": "JVbe6nD9_KmJ"
      }
    },
    {
      "cell_type": "markdown",
      "source": [
        "## Standarisasi Kolom Numerik\n",
        "\n",
        "Supaya mendapatkan hasil yang maksimal dalam penerapan algoritma ini, kita perlu menjadikan data-data numerik yang kita miliki berada pada satu skala. Hal ini dapat dilakukan dengan melakukan standardisasi data yang kita miliki.\n",
        "\n",
        "Tujuannya adalah agar variabel yang memiliki skala besar tidak mendominasi bagaimana cluster akan dibentuk dan juga tiap variabel akan dianggap sama pentingnya oleh algoritma yang akan digunakan."
      ],
      "metadata": {
        "id": "lUwszAru_Qio"
      }
    },
    {
      "cell_type": "code",
      "source": [
        "from sklearn.preprocessing import StandardScaler\n",
        "\n",
        "kolom_numerik = ['Umur','NilaiBelanjaSetahun']\n",
        "\n",
        "# Statistik sebelum Standardisasi\n",
        "print('Statistik Sebelum Standardisasi\\n')\n",
        "print(df[kolom_numerik ].describe().round(1))\n",
        "\n",
        "# Standardisasi\n",
        "df_std = StandardScaler().fit_transform(df[kolom_numerik])\n",
        "\n",
        "# Membuat DataFrame\n",
        "df_std = pd.DataFrame(data=df_std, index=df.index, columns=df[kolom_numerik].columns)\n",
        "\n",
        "# Menampilkan contoh isi data dan summary statistic\n",
        "print('Contoh hasil standardisasi\\n')\n",
        "print(df_std.head())\n",
        "\n",
        "print('Statistik hasil standardisasi\\n')\n",
        "print(df_std.describe().round(0))"
      ],
      "metadata": {
        "colab": {
          "base_uri": "https://localhost:8080/"
        },
        "id": "2Hw7htEIhZds",
        "outputId": "f3bacab3-a5ad-4e51-dee0-c069c000f681"
      },
      "execution_count": null,
      "outputs": [
        {
          "output_type": "stream",
          "name": "stdout",
          "text": [
            "Statistik Sebelum Standardisasi\n",
            "\n",
            "       Umur  NilaiBelanjaSetahun\n",
            "count  50.0                 50.0\n",
            "mean   37.5            7069874.8\n",
            "std    14.7            2590619.0\n",
            "min    14.0            2722700.0\n",
            "25%    25.0            5257529.8\n",
            "50%    35.0            5980077.0\n",
            "75%    49.8            9739615.0\n",
            "max    64.0           10884508.0\n",
            "Contoh hasil standardisasi\n",
            "\n",
            "       Umur  NilaiBelanjaSetahun\n",
            "0  1.411245             0.946763\n",
            "1 -1.617768            -1.695081\n",
            "2  0.722833            -0.695414\n",
            "3  1.067039            -0.727361\n",
            "4  0.240944             1.382421\n",
            "Statistik hasil standardisasi\n",
            "\n",
            "       Umur  NilaiBelanjaSetahun\n",
            "count  50.0                 50.0\n",
            "mean    0.0                 -0.0\n",
            "std     1.0                  1.0\n",
            "min    -2.0                 -2.0\n",
            "25%    -1.0                 -1.0\n",
            "50%    -0.0                 -0.0\n",
            "75%     1.0                  1.0\n",
            "max     2.0                  1.0\n"
          ]
        }
      ]
    },
    {
      "cell_type": "markdown",
      "source": [
        "## Konversi Kategorikal Data dengan Label Encoder\n",
        "\n",
        "Selanjutnya kita perlu merubah kolom-kolom yang berjenis kategorikal menjadi angka. Kita akan menggunakan salah satu fungsi dari sklearn yaitu LabelEncoder. Pada dasarnya fungsi ini akan melakukan konversi data pelanggan dari teks menjadi numerik.\n",
        "\n",
        "Sebagai contoh untuk kolom Jenis Kelamin, teks \"Pria\" akan diubah menjadi angka 0 dan teks \"Wanita\" akan diuubah menjadi angka satu. Perubahan ini perlu kita untuk semua teks sebelum digunakan pada algoritma K-Prototype."
      ],
      "metadata": {
        "id": "Y-H_vWKHhxPR"
      }
    },
    {
      "cell_type": "code",
      "source": [
        "from sklearn.preprocessing import LabelEncoder\n",
        "\n",
        "# Inisiasi nama kolom kategorikal\n",
        "kolom_kategorikal = ['Jenis Kelamin','Profesi','Tipe Residen']\n",
        "\n",
        "# Membuat salinan data frame\n",
        "df_encode = df[kolom_kategorikal].copy()\n",
        "\n",
        "\n",
        "# Melakukan labelEncoder untuk semua kolom kategorikal\n",
        "for col in kolom_kategorikal:\n",
        "    df_encode[col] = LabelEncoder().fit_transform(df_encode[col])\n",
        "\n",
        "# Menampilkan data\n",
        "print(df_encode.head())"
      ],
      "metadata": {
        "colab": {
          "base_uri": "https://localhost:8080/"
        },
        "id": "Pr-XX9iPh6VM",
        "outputId": "a731b3c1-3e42-435b-e59a-81fe6e93951a"
      },
      "execution_count": null,
      "outputs": [
        {
          "output_type": "stream",
          "name": "stdout",
          "text": [
            "   Jenis Kelamin  Profesi  Tipe Residen\n",
            "0              0        4             1\n",
            "1              1        2             0\n",
            "2              0        3             0\n",
            "3              0        3             0\n",
            "4              1        4             0\n"
          ]
        }
      ]
    },
    {
      "cell_type": "markdown",
      "source": [
        "## Menggabungkan Data untuk Permodelan\n",
        "\n",
        "Setelah menyelesaikan dua tahap sebelumnya, kali ini kita akan menggabungkan kedua hasil pemrosesan tersebut menjadi satu data frame. Data frame ini yang akan digunakan untuk permodelan."
      ],
      "metadata": {
        "id": "OcPLFPUUiepg"
      }
    },
    {
      "cell_type": "code",
      "source": [
        "# Menggabungkan data frame\n",
        "df_model = df_encode.merge(df_std, left_index = True, right_index=True, how = 'left')\n",
        "print(df_model.head())"
      ],
      "metadata": {
        "colab": {
          "base_uri": "https://localhost:8080/"
        },
        "id": "cYnY_OUQiibH",
        "outputId": "fdb47993-8d58-489b-ff3c-847ca97f520d"
      },
      "execution_count": null,
      "outputs": [
        {
          "output_type": "stream",
          "name": "stdout",
          "text": [
            "   Jenis Kelamin  Profesi  Tipe Residen      Umur  NilaiBelanjaSetahun\n",
            "0              0        4             1  1.411245             0.946763\n",
            "1              1        2             0 -1.617768            -1.695081\n",
            "2              0        3             0  0.722833            -0.695414\n",
            "3              0        3             0  1.067039            -0.727361\n",
            "4              1        4             0  0.240944             1.382421\n"
          ]
        }
      ]
    },
    {
      "cell_type": "markdown",
      "source": [
        "![image](https://user-images.githubusercontent.com/62486840/148684219-42f1d72a-d390-40e0-9ebc-b2e6ea9da184.png)\n"
      ],
      "metadata": {
        "id": "8dkE6qjajkGs"
      }
    },
    {
      "cell_type": "markdown",
      "source": [
        "## Kesimpulan\n",
        "\n",
        "Sampai di sini, kita sudah menggunakan kemampuan kita dalam menyiapkan library dan data. Kemudian melakukan data eksplorasi dan pemrosesan data hingga mendapatkan data yang siap digunakan untuk permodelan. "
      ],
      "metadata": {
        "id": "m14PWBLGjmGU"
      }
    },
    {
      "cell_type": "markdown",
      "source": [
        "## SECTION 2: Customer Segmentation with Python - Part 2"
      ],
      "metadata": {
        "id": "8WvMTV4Ve4W9"
      }
    },
    {
      "cell_type": "markdown",
      "source": [
        "### Mencari Jumlah Cluster yang Optimal\n",
        "\n",
        "Salah satu parameter penting yang harus dimasukkan pada algoritma kprototype adalah jumlah cluster yang diinginkan. Oleh karena itu, kita perlu mencari jumlah cluster yang optimal. Salah satu cara untuk mendapatkan nilai optimal tersebut adalah dengan menggunakan bantuan 'elbow plot'.\n",
        "\n",
        "Elbow plot ini dapat dibuat dengan cara memvisualisasikan total jarak seluruh data kita ke pusat cluster-nya. Selanjutnya kita memilih titik siku dari pola yang terbentuk dan menjadikannya sebagai jumlah cluster kita.\n",
        "\n",
        " \n",
        "\n",
        "Untuk melakukan hal ini kamu perlu menjalankan algoritma kprototypes dengan berbagai jumlah cluster. Selanjutnya kamu juga menyimpan nilai cost_ dan memvisualisasikannya dengan line plot atau point plot."
      ],
      "metadata": {
        "id": "7aAMpcWOe74s"
      }
    },
    {
      "cell_type": "code",
      "source": [
        "pip uninstall kmodes && pip install kmodes"
      ],
      "metadata": {
        "colab": {
          "base_uri": "https://localhost:8080/"
        },
        "id": "DjjENTRxhUQ2",
        "outputId": "762324c9-119d-4664-843e-21c45add2211"
      },
      "execution_count": 1,
      "outputs": [
        {
          "output_type": "stream",
          "name": "stdout",
          "text": [
            "\u001b[33mWARNING: Skipping kmodes as it is not installed.\u001b[0m\n",
            "Collecting kmodes\n",
            "  Downloading kmodes-0.11.1-py2.py3-none-any.whl (19 kB)\n",
            "Requirement already satisfied: scipy>=0.13.3 in /usr/local/lib/python3.7/dist-packages (from kmodes) (1.4.1)\n",
            "Requirement already satisfied: numpy>=1.10.4 in /usr/local/lib/python3.7/dist-packages (from kmodes) (1.19.5)\n",
            "Requirement already satisfied: joblib>=0.11 in /usr/local/lib/python3.7/dist-packages (from kmodes) (1.1.0)\n",
            "Requirement already satisfied: scikit-learn>=0.22.0 in /usr/local/lib/python3.7/dist-packages (from kmodes) (1.0.2)\n",
            "Requirement already satisfied: threadpoolctl>=2.0.0 in /usr/local/lib/python3.7/dist-packages (from scikit-learn>=0.22.0->kmodes) (3.0.0)\n",
            "Installing collected packages: kmodes\n",
            "Successfully installed kmodes-0.11.1\n"
          ]
        }
      ]
    },
    {
      "cell_type": "code",
      "source": [
        "from kmodes.kmodes import KModes  \n",
        "from kmodes.kprototypes import KPrototypes  \n",
        "import pandas as pd\n",
        "import seaborn as sns\n",
        "import matplotlib.pyplot as plt  \n",
        "df_model = pd.read_csv('https://storage.googleapis.com/dqlab-dataset/df-customer-segmentation.csv')\n",
        "\n",
        "# Melakukan Iterasi untuk Mendapatkan nilai Cost  \n",
        "cost = {}  \n",
        "for k in range(2,10):  \n",
        "    kproto = KPrototypes (n_clusters = k,random_state=75)  \n",
        "    kproto.fit_predict(df_model, categorical=[0,1,2])  \n",
        "    cost [k]= kproto.cost_  \n",
        "  \n",
        "# Memvisualisasikan Elbow Plot  \n",
        "sns.pointplot(x=list(cost.keys()), y=list(cost.values()))  \n",
        "plt.show()"
      ],
      "metadata": {
        "colab": {
          "base_uri": "https://localhost:8080/",
          "height": 265
        },
        "id": "QAV8Tf8Re-I8",
        "outputId": "3d39b1de-4b10-4848-80da-f4890ef9a066"
      },
      "execution_count": 2,
      "outputs": [
        {
          "output_type": "display_data",
          "data": {
            "image/png": "[encoded data removed]",
            "text/plain": [
              "<Figure size 432x288 with 1 Axes>"
            ]
          },
          "metadata": {
            "needs_background": "light"
          }
        }
      ]
    },
    {
      "cell_type": "markdown",
      "source": [
        "### Membuat Model\n",
        "\n",
        "Selanjutnya kita dapat melakukan pembuatan model dengan jumlah kluster yang sudah didapat pada tahap sebelumnya yaitu 5 dan menyimpan hasilnya sebagai pickle file."
      ],
      "metadata": {
        "id": "HUQsoqllhlw9"
      }
    },
    {
      "cell_type": "code",
      "source": [
        "import pandas as pd \n",
        "df_model = pd.read_csv('https://storage.googleapis.com/dqlab-dataset/df-customer-segmentation.csv')\n",
        "\n",
        "import pickle  \n",
        "from kmodes.kmodes import KModes  \n",
        "from kmodes.kprototypes import KPrototypes  \n",
        "  \n",
        "kproto = KPrototypes ( n_clusters = 5, random_state = 75)  \n",
        "kproto = kproto.fit(df_model, categorical=[0,1,2])  \n",
        "  \n",
        "#Save Model  \n",
        "pickle.dump(kproto, open('cluster.pkl', 'wb'))  "
      ],
      "metadata": {
        "id": "V5OzS422hoLF"
      },
      "execution_count": 3,
      "outputs": []
    },
    {
      "cell_type": "markdown",
      "source": [
        "### Menggunakan Model\n",
        "\n",
        "Model yang sudah kita buat dapat digunakan untuk menentukan setiap pelanggan masuk ke dalam cluster yang mana. Kali ini kita akan menggunakan model tersebut untuk menentukan segmen pelanggan yang ada di dataset."
      ],
      "metadata": {
        "id": "gpK1fu2cimVM"
      }
    },
    {
      "cell_type": "code",
      "source": [
        "df = pd.read_csv(\"https://storage.googleapis.com/dqlab-dataset/customer_segments.txt\", sep=\"\\t\") \n",
        "# Menentukan segmen tiap pelanggan    \n",
        "clusters =  kproto.predict(df_model, categorical=[0,1,2])    \n",
        "print('segmen pelanggan: {}\\n'.format(clusters))    \n",
        "    \n",
        "# Menggabungkan data awal dan segmen pelanggan    \n",
        "df_final = df.copy()    \n",
        "df_final['cluster'] = clusters\n",
        "print(df_final.head())  "
      ],
      "metadata": {
        "colab": {
          "base_uri": "https://localhost:8080/"
        },
        "id": "548AcivKiq5O",
        "outputId": "af5cb1a0-2419-4354-9450-16f5164a0a05"
      },
      "execution_count": 4,
      "outputs": [
        {
          "output_type": "stream",
          "name": "stdout",
          "text": [
            "segmen pelanggan: [1 0 2 2 3 4 1 2 4 4 2 2 1 1 3 4 4 2 3 0 3 2 4 3 3 2 3 4 2 2 0 1 0 3 4 3 4\n",
            " 1 4 0 4 3 4 3 4 3 2 1 4 1]\n",
            "\n",
            "  Customer_ID       Nama Pelanggan  ... NilaiBelanjaSetahun  cluster\n",
            "0    CUST-001         Budi Anggara  ...             9497927        1\n",
            "1    CUST-002     Shirley Ratuwati  ...             2722700        0\n",
            "2    CUST-003         Agus Cahyono  ...             5286429        2\n",
            "3    CUST-004     Antonius Winarta  ...             5204498        2\n",
            "4    CUST-005  Ibu Sri Wahyuni, IR  ...            10615206        3\n",
            "\n",
            "[5 rows x 8 columns]\n"
          ]
        }
      ]
    },
    {
      "cell_type": "markdown",
      "source": [
        "### Menampilkan Cluster Tiap Pelanggan\n",
        "\n",
        "Setelah kita menggabungkan data awal pelanggan dan cluster-nya, kita perlu untuk menampilkan dan mengobservasi hasilnya untuk membantu kita dalam memberi nama tiap cluster berdasarkan karakteristiknya."
      ],
      "metadata": {
        "id": "USpfUiq6kjEF"
      }
    },
    {
      "cell_type": "code",
      "source": [
        "# Menampilkan data pelanggan berdasarkan cluster nya  \n",
        "for i in range (0,5):  \n",
        "    print('\\nPelanggan cluster: {}\\n'.format(i))  \n",
        "    print(df_final[df_final['cluster']== i])"
      ],
      "metadata": {
        "colab": {
          "base_uri": "https://localhost:8080/"
        },
        "id": "BTG9PHOOkl1l",
        "outputId": "dfae18df-495d-40bf-c210-f8cfd28ca97a"
      },
      "execution_count": 5,
      "outputs": [
        {
          "output_type": "stream",
          "name": "stdout",
          "text": [
            "\n",
            "Pelanggan cluster: 0\n",
            "\n",
            "   Customer_ID    Nama Pelanggan  ... NilaiBelanjaSetahun  cluster\n",
            "1     CUST-002  Shirley Ratuwati  ...             2722700        0\n",
            "19    CUST-020    Irene Novianto  ...             2896845        0\n",
            "30    CUST-031     Eviana Handry  ...             3042773        0\n",
            "32    CUST-033   Cecilia Kusnadi  ...             3047926        0\n",
            "39    CUST-040    Irene Darmawan  ...             2861855        0\n",
            "\n",
            "[5 rows x 8 columns]\n",
            "\n",
            "Pelanggan cluster: 1\n",
            "\n",
            "   Customer_ID    Nama Pelanggan  ... NilaiBelanjaSetahun  cluster\n",
            "0     CUST-001      Budi Anggara  ...             9497927        1\n",
            "6     CUST-007     Cahyono, Agus  ...             9837260        1\n",
            "12    CUST-013      Cahaya Putri  ...             9333168        1\n",
            "13    CUST-014    Mario Setiawan  ...             9471615        1\n",
            "31    CUST-032   Chintya Winarni  ...            10663179        1\n",
            "37    CUST-038      Agatha Salim  ...            10477127        1\n",
            "47    CUST-048  Maria Hutagalung  ...            10390732        1\n",
            "49    CUST-050    Lianna Nugraha  ...            10569316        1\n",
            "\n",
            "[8 rows x 8 columns]\n",
            "\n",
            "Pelanggan cluster: 2\n",
            "\n",
            "   Customer_ID     Nama Pelanggan  ... NilaiBelanjaSetahun  cluster\n",
            "2     CUST-003       Agus Cahyono  ...             5286429        2\n",
            "3     CUST-004   Antonius Winarta  ...             5204498        2\n",
            "7     CUST-008     Danang Santosa  ...             5223569        2\n",
            "10    CUST-011     Maria Suryawan  ...             5987367        2\n",
            "11    CUST-012    Erliana Widjaja  ...             5941914        2\n",
            "17    CUST-018        Nelly Halim  ...             5340690        2\n",
            "21    CUST-022       Novita Purba  ...             5298157        2\n",
            "25    CUST-026  Christine Winarto  ...             5269392        2\n",
            "28    CUST-029       Tia Hartanti  ...             5271845        2\n",
            "29    CUST-030     Rosita Saragih  ...             5020976        2\n",
            "46    CUST-047        Mira Kurnia  ...             6130724        2\n",
            "\n",
            "[11 rows x 8 columns]\n",
            "\n",
            "Pelanggan cluster: 3\n",
            "\n",
            "   Customer_ID       Nama Pelanggan  ... NilaiBelanjaSetahun  cluster\n",
            "4     CUST-005  Ibu Sri Wahyuni, IR  ...            10615206        3\n",
            "14    CUST-015     Shirley Ratuwati  ...            10365668        3\n",
            "18    CUST-019         Mega Pranoto  ...            10884508        3\n",
            "20    CUST-021     Lestari Fabianto  ...             9222070        3\n",
            "23    CUST-024        Putri Ginting  ...            10259572        3\n",
            "24    CUST-025       Julia Setiawan  ...            10721998        3\n",
            "26    CUST-027        Grace Mulyati  ...             9114159        3\n",
            "33    CUST-034       Deasy Arisandi  ...             9759822        3\n",
            "35    CUST-036       Ni Made Suasti  ...             9678994        3\n",
            "41    CUST-042         Yuliana Wati  ...             9880607        3\n",
            "43    CUST-044                 Anna  ...             9339737        3\n",
            "45    CUST-046         Elfira Surya  ...            10099807        3\n",
            "\n",
            "[12 rows x 8 columns]\n",
            "\n",
            "Pelanggan cluster: 4\n",
            "\n",
            "   Customer_ID         Nama Pelanggan  ... NilaiBelanjaSetahun  cluster\n",
            "5     CUST-006        Rosalina Kurnia  ...             5215541        4\n",
            "8     CUST-009  Elisabeth Suryadinata  ...             5993218        4\n",
            "9     CUST-010         Mario Setiawan  ...             5257448        4\n",
            "15    CUST-016           Bambang Rudi  ...             5262521        4\n",
            "16    CUST-017              Yuni Sari  ...             5677762        4\n",
            "22    CUST-023        Denny Amiruddin  ...             5239290        4\n",
            "27    CUST-028          Adeline Huang  ...             6631680        4\n",
            "34    CUST-035                Ida Ayu  ...             5962575        4\n",
            "36    CUST-037       Felicia Tandiono  ...             5972787        4\n",
            "38    CUST-039           Gina Hidayat  ...             5257775        4\n",
            "40    CUST-041       Shinta Aritonang  ...             6820976        4\n",
            "42    CUST-043           Yenna Sumadi  ...             5268410        4\n",
            "44    CUST-045         Rismawati Juni  ...             5211041        4\n",
            "48    CUST-049        Josephine Wahab  ...             4992585        4\n",
            "\n",
            "[14 rows x 8 columns]\n"
          ]
        }
      ]
    },
    {
      "cell_type": "markdown",
      "source": [
        "### Visualisasi Hasil Clustering - Box Plot\n",
        "\n",
        "Kita juga membuat visualisasi hasil clustering untuk dapat memudahkan kita melakukan penamaan di tiap-tiap cluster."
      ],
      "metadata": {
        "id": "Iwp2lEkZC0al"
      }
    },
    {
      "cell_type": "code",
      "source": [
        "# Data Numerical\n",
        "kolom_numerik = ['Umur','NilaiBelanjaSetahun']  \n",
        "  \n",
        "for i in kolom_numerik:  \n",
        "    plt.figure(figsize=(6,4))  \n",
        "    ax = sns.boxplot(x = 'cluster',y = i, data = df_final)  \n",
        "    plt. title ('\\nBox Plot {}\\n'.format(i), fontsize=12)  \n",
        "    plt.show() "
      ],
      "metadata": {
        "colab": {
          "base_uri": "https://localhost:8080/",
          "height": 633
        },
        "id": "AsVTMtsRC2dG",
        "outputId": "133932c9-4943-425b-d531-e849068f84ee"
      },
      "execution_count": 6,
      "outputs": [
        {
          "output_type": "display_data",
          "data": {
            "image/png": "[encoded data removed]",
            "text/plain": [
              "<Figure size 432x288 with 1 Axes>"
            ]
          },
          "metadata": {
            "needs_background": "light"
          }
        },
        {
          "output_type": "display_data",
          "data": {
            "image/png": "[encoded data removed]",
            "text/plain": [
              "<Figure size 432x288 with 1 Axes>"
            ]
          },
          "metadata": {
            "needs_background": "light"
          }
        }
      ]
    },
    {
      "cell_type": "markdown",
      "source": [
        "### Visualisasi Hasil Clustering - Count Plot\n",
        "\n",
        "Kita juga membuat visualisasi hasil clustering untuk dapat memudahkan kita melakukan penamaan di tiap-tiap cluster."
      ],
      "metadata": {
        "id": "HBjeIVOhDnnr"
      }
    },
    {
      "cell_type": "code",
      "source": [
        "# Data Kategorikal  \n",
        "kolom_categorical = ['Jenis Kelamin','Profesi','Tipe Residen']  \n",
        "  \n",
        "for i in kolom_categorical:  \n",
        "    plt.figure(figsize=(6,4))  \n",
        "    ax = sns.countplot(data = df_final, x = 'cluster', hue = i )  \n",
        "    plt.title('\\nCount Plot {}\\n'.format(i), fontsize=12)  \n",
        "    ax. legend (loc=\"upper center\")  \n",
        "    for p in ax.patches:  \n",
        "        ax.annotate(format(p.get_height(), '.0f'),  \n",
        "                    (p.get_x() + p.get_width() / 2., p.get_height()),  \n",
        "                     ha = 'center',  \n",
        "                     va = 'center',  \n",
        "                     xytext = (0, 10),  \n",
        "                     textcoords = 'offset points')  \n",
        "      \n",
        "    sns.despine(right=True,top = True, left = True)  \n",
        "    ax.axes.yaxis.set_visible(False)  \n",
        "    plt.show()  \n"
      ],
      "metadata": {
        "colab": {
          "base_uri": "https://localhost:8080/",
          "height": 941
        },
        "id": "spB2BKPVDtF2",
        "outputId": "bcd1eeeb-adeb-4cbb-bebf-a60628721072"
      },
      "execution_count": 7,
      "outputs": [
        {
          "output_type": "display_data",
          "data": {
            "image/png": "[encoded data removed]",
            "text/plain": [
              "<Figure size 432x288 with 1 Axes>"
            ]
          },
          "metadata": {
            "needs_background": "light"
          }
        },
        {
          "output_type": "display_data",
          "data": {
            "image/png": "[encoded data removed]",
            "text/plain": [
              "<Figure size 432x288 with 1 Axes>"
            ]
          },
          "metadata": {
            "needs_background": "light"
          }
        },
        {
          "output_type": "display_data",
          "data": {
            "image/png": "[encoded data removed]",
            "text/plain": [
              "<Figure size 432x288 with 1 Axes>"
            ]
          },
          "metadata": {
            "needs_background": "light"
          }
        }
      ]
    },
    {
      "cell_type": "markdown",
      "source": [
        "### Menamakan Cluster\n",
        "\n",
        "Dari hasil observasi yang dilakukan kamu dapat memberikan nama segmen dari tiap tiap nomor klusternya, yaitu:\n",
        "\n",
        "Cluster 0: Diamond Young Entrepreneur, isi cluster ini adalah para wiraswasta yang memiliki nilai transaksi rata-rata mendekati 10 juta. Selain itu isi dari cluster ini memiliki umur sekitar 18 - 41 tahun dengan rata-ratanya adalah 29 tahun.\n",
        "\n",
        "Cluster 1: Diamond Senior Entrepreneur, isi cluster ini adalah para wiraswasta yang memiliki nilai transaksi rata-rata mendekati 10 juta. Isi dari cluster ini memiliki umur sekitar 45 - 64 tahun dengan rata-ratanya adalah 55 tahun.\n",
        "\n",
        "Cluster 2: Silver Students, isi cluster ini adalah para pelajar dan mahasiswa dengan rata-rata umur mereka adalah 16 tahun dan nilai belanja setahun mendekati 3 juta.\n",
        "\n",
        "Cluster 3: Gold Young Member, isi cluster ini adalah para profesional dan ibu rumah tangga yang berusia muda dengan rentang umur sekitar 20 - 40 tahun dan dengan rata-rata 30 tahun dan nilai belanja setahunnya mendekati 6 juta.\n",
        "\n",
        "Cluster 4: Gold Senior Member, isi cluster ini adalah para profesional dan ibu rumah tangga yang berusia tua dengan rentang umur 46 - 63 tahun dan dengan rata-rata 53 tahun dan nilai belanja setahunnya mendekati 6 juta."
      ],
      "metadata": {
        "id": "2HPA_D9-EjrK"
      }
    },
    {
      "cell_type": "code",
      "source": [
        "\n",
        "# Mapping nama kolom  \n",
        "df_final['segmen'] = df_final['cluster'].map({  \n",
        "    0: 'Diamond Young Member',  \n",
        "    1: 'Diamond Senior Member',  \n",
        "    2: 'Silver Member',  \n",
        "    3: 'Gold Young Member',  \n",
        "    4: 'Gold Senior Member'  \n",
        "})  \n",
        "\n",
        "print(df_final.info())\n",
        "print(df_final.head())"
      ],
      "metadata": {
        "colab": {
          "base_uri": "https://localhost:8080/"
        },
        "id": "maFTShD8EuXr",
        "outputId": "0ef39e05-91db-4702-964b-87509a34779b"
      },
      "execution_count": 8,
      "outputs": [
        {
          "output_type": "stream",
          "name": "stdout",
          "text": [
            "<class 'pandas.core.frame.DataFrame'>\n",
            "RangeIndex: 50 entries, 0 to 49\n",
            "Data columns (total 9 columns):\n",
            " #   Column               Non-Null Count  Dtype \n",
            "---  ------               --------------  ----- \n",
            " 0   Customer_ID          50 non-null     object\n",
            " 1   Nama Pelanggan       50 non-null     object\n",
            " 2   Jenis Kelamin        50 non-null     object\n",
            " 3   Umur                 50 non-null     int64 \n",
            " 4   Profesi              50 non-null     object\n",
            " 5   Tipe Residen         50 non-null     object\n",
            " 6   NilaiBelanjaSetahun  50 non-null     int64 \n",
            " 7   cluster              50 non-null     uint16\n",
            " 8   segmen               50 non-null     object\n",
            "dtypes: int64(2), object(6), uint16(1)\n",
            "memory usage: 3.3+ KB\n",
            "None\n",
            "  Customer_ID       Nama Pelanggan  ... cluster                 segmen\n",
            "0    CUST-001         Budi Anggara  ...       1  Diamond Senior Member\n",
            "1    CUST-002     Shirley Ratuwati  ...       0   Diamond Young Member\n",
            "2    CUST-003         Agus Cahyono  ...       2          Silver Member\n",
            "3    CUST-004     Antonius Winarta  ...       2          Silver Member\n",
            "4    CUST-005  Ibu Sri Wahyuni, IR  ...       3      Gold Young Member\n",
            "\n",
            "[5 rows x 9 columns]\n"
          ]
        }
      ]
    },
    {
      "cell_type": "markdown",
      "source": [
        "### Kesimpulan\n",
        "\n",
        "Melakukan segmentasi pelanggan dan mendapatkan nama yang cocok untuk masing masing cluster, yaitu:\n",
        "\n",
        "Cluster 0: Diamond Young Entrepreneur, isi cluster ini adalah para wiraswasta yang memiliki nilai transaksi rata-rata mendekati 10 juta. Selain itu isi dari cluster ini memiliki umur sekitar 18 - 41 tahun dengan rata-ratanya adalah 29 tahun.\n",
        "\n",
        "Cluster 1: Diamond Senior Entrepreneur, isi cluster ini adalah para wiraswasta yang memiliki nilai transaksi rata-rata mendekati 10 juta. Isi dari cluster ini memiliki umur sekitar 45 - 64 tahun dengan rata-ratanya adalah 55 tahun.\n",
        "\n",
        "Cluster 2: Silver Students, isi cluster ini adalah para pelajar dan mahasiswa dengan rata-rata umur mereka adalah 16 tahun dan nilai belanja setahun mendekati 3 juta.\n",
        "\n",
        "Cluster 3: Gold Young Member, isi cluster ini adalah para profesional dan ibu rumah tangga yang berusia muda dengan rentang umur sekitar 20 - 40 tahun dan dengan rata-rata 30 tahun dan nilai belanja setahunnya mendekati 6 juta.\n",
        "\n",
        "Cluster 4: Gold Senior Member, isi cluster ini adalah para profesional dan ibu rumah tangga yang berusia tua dengan rentang umur 46 - 63 tahun dan dengan rata-rata 53 tahun dan nilai belanja setahunnya mendekati 6 juta."
      ],
      "metadata": {
        "id": "QP4szw-XFn_P"
      }
    },
    {
      "cell_type": "markdown",
      "source": [
        "### Mempersiapkan Data Baru\n",
        "\n",
        "Disini kita membuat contoh data baru untuk diprediksi dengan model yang sudah dibuat. Hal ini kamu lakukan dengan membuat satu buah dataframe yang berisi informasi pelanggan."
      ],
      "metadata": {
        "id": "NHcswzTGFzGe"
      }
    },
    {
      "cell_type": "code",
      "source": [
        "import pandas as pd\n",
        "# Data Baru  \n",
        "data = [{  \n",
        "    'Customer_ID': 'CUST-100' ,  \n",
        "    'Nama Pelanggan': 'Joko' ,  \n",
        "    'Jenis Kelamin': 'Pria',  \n",
        "    'Umur': 45,  \n",
        "    'Profesi': 'Wiraswasta',  \n",
        "    'Tipe Residen': 'Cluster' ,  \n",
        "    'NilaiBelanjaSetahun': 8230000  \n",
        "      \n",
        "}]  \n",
        "  \n",
        "# Membuat Data Frame  \n",
        "new_df = pd.DataFrame(data)  \n",
        "  \n",
        "# Melihat Data  \n",
        "print(new_df) "
      ],
      "metadata": {
        "colab": {
          "base_uri": "https://localhost:8080/"
        },
        "id": "bzzvusfNIZfL",
        "outputId": "0bbfda3e-a905-4417-99ca-a6210b997d04"
      },
      "execution_count": 9,
      "outputs": [
        {
          "output_type": "stream",
          "name": "stdout",
          "text": [
            "  Customer_ID Nama Pelanggan  ... Tipe Residen  NilaiBelanjaSetahun\n",
            "0    CUST-100           Joko  ...      Cluster              8230000\n",
            "\n",
            "[1 rows x 7 columns]\n"
          ]
        }
      ]
    },
    {
      "cell_type": "markdown",
      "source": [
        "### Membuat Fungsi Data Pemrosesan\n",
        "\n",
        "Selanjutnya kita perlu membuat fungsi untuk melakukan pemrosesan data berdasarkan parameter yang sama pada saat kita melakukan permodelan dan kita panggil dengan data baru kita.\n",
        "\n",
        "Jadi fungsi ini nantinya akan bisa digunakan untuk:\n",
        "\n",
        "Melakukan konversi data kategorikal menjadi numerik\n",
        "\n",
        "Dari proses sebelumnya kita tau representasi tiap kode dan maksudnya yaitu:\n",
        "\n",
        "Jenis Kelamin\n",
        "\n",
        "* 0 : Pria\n",
        "\n",
        "* 1 : Wanita\n",
        "\n",
        "Profesi\n",
        "\n",
        "* 0 : Ibu Rumah Tangga\n",
        "* 1 : Mahasiswa\n",
        "* 2 : Pelajar\n",
        "* 3 : Professional\n",
        "* 4 : Wiraswasta\n",
        "Tipe Residen\n",
        "\n",
        "* 1 : Sector\n",
        "* 0 : Cluster\n",
        "\n",
        "Selanjutnya kita harus membuat fungsi untuk merubah data kategorikal menjadi numerik berdasarkan referensi tersebut.\n",
        "\n",
        "Melakukan standardisasi kolom numerikal\n",
        "\n",
        "Untuk melakukan standardisasi dengan variable yang sama pada saat permodelan kita perlu menggunakan nilai rata-rata dan standard deviasi dari tiap variabel pada saat kita melakukan permodelan, yaitu:\n",
        "\n",
        "Umur\n",
        "\n",
        "* Rata - rata: 37.5\n",
        "* Standard Deviasi: 14.7\n",
        "\n",
        "NilaiBelanjaSetahun\n",
        "\n",
        "* Rata - rata: 7069874.8\n",
        "* Standard Deviasi: 2590619.0\n",
        "\n",
        "Dari nilai-nilai tersebut kita dapat menghitung nilai standardisasi (Z) dengan menggunakan rumus Z = (x - u)/s dengan x adalah tiap nilai, u adalah rata-rata dan s adalah standard deviasi.\n",
        "\n",
        "**Menggabungkan hasil dua proses sebelumnya menjadi satu dataframe**\n",
        "\n",
        "Selanjutnya kita perlu menggabungkan kedua perintah tersebut dan menjadi dataframe yang siap untuk dilakukan permodelan."
      ],
      "metadata": {
        "id": "PoSLaofoI4-4"
      }
    },
    {
      "cell_type": "code",
      "source": [
        "def data_preprocess(data):  \n",
        "    # Konversi Kategorikal data  \n",
        "    kolom_kategorikal = ['Jenis Kelamin','Profesi','Tipe Residen']  \n",
        "      \n",
        "    df_encode = data[kolom_kategorikal].copy()  \n",
        "  \n",
        "    ## Jenis Kelamin   \n",
        "    df_encode['Jenis Kelamin'] = df_encode['Jenis Kelamin'].map({  \n",
        "        'Pria': 0,  \n",
        "        'Wanita' : 1  \n",
        "    })  \n",
        "      \n",
        "    ## Profesi  \n",
        "    df_encode['Profesi'] = df_encode['Profesi'].map({  \n",
        "        'Ibu Rumah Tangga': 0,  \n",
        "        'Mahasiswa' : 1,  \n",
        "        'Pelajar': 2,  \n",
        "        'Professional': 3,  \n",
        "        'Wiraswasta': 4  \n",
        "    })  \n",
        "      \n",
        "    ## Tipe Residen  \n",
        "    df_encode['Tipe Residen'] = df_encode['Tipe Residen'].map({  \n",
        "        'Cluster': 0,  \n",
        "        'Sector' : 1  \n",
        "    })  \n",
        "      \n",
        "    # Standardisasi Numerical Data  \n",
        "    kolom_numerik = ['Umur','NilaiBelanjaSetahun']  \n",
        "    df_std = data[kolom_numerik].copy()  \n",
        "      \n",
        "    ## Standardisasi Kolom Umur  \n",
        "    df_std['Umur'] = (df_std['Umur'] - 37.5)/14.7  \n",
        "      \n",
        "    ## Standardisasi Kolom Nilai Belanja Setahun  \n",
        "    df_std['NilaiBelanjaSetahun'] = (df_std['NilaiBelanjaSetahun'] - 7069874.8)/2590619.0  \n",
        "      \n",
        "    # Menggabungkan Kategorikal dan numerikal data  \n",
        "    df_model = df_encode.merge(df_std, left_index = True,  \n",
        "                           right_index=True, how = 'left')  \n",
        "      \n",
        "    return df_model  \n",
        "  \n",
        "# Menjalankan fungsi  \n",
        "new_df_model = data_preprocess(new_df)  \n",
        "  \n",
        "print(new_df_model) \n"
      ],
      "metadata": {
        "colab": {
          "base_uri": "https://localhost:8080/"
        },
        "id": "u4lpYZx7Jf7Q",
        "outputId": "58522d7e-bf5a-4277-8323-8a5dc48dcd4f"
      },
      "execution_count": 10,
      "outputs": [
        {
          "output_type": "stream",
          "name": "stdout",
          "text": [
            "   Jenis Kelamin  Profesi  Tipe Residen      Umur  NilaiBelanjaSetahun\n",
            "0              0        4             0  0.510204             0.447818\n"
          ]
        }
      ]
    },
    {
      "cell_type": "markdown",
      "source": [
        "### Memanggil Model dan Melakukan Prediksi\n",
        "\n",
        "Setelah kita memiliki data yang siap digunakan, saatnya memanggil model yang sudah disimpan sebelumnya dan dilanjutkan dengan melakukan prediksi.\n",
        "\n",
        "Untuk melakukan hal tersebut, kita perlu membuat prosesnya menjadi dalam satu fungsi yang bernama modelling dengan menggunakan data baru sebagai input-nya.\n"
      ],
      "metadata": {
        "id": "pGYv7Fg6LlKJ"
      }
    },
    {
      "cell_type": "code",
      "source": [
        "def modelling (data):  \n",
        "      \n",
        "    # Memanggil Model  \n",
        "    kpoto = pickle.load(open('cluster.pkl', 'rb'))  \n",
        "      \n",
        "    # Melakukan Prediksi  \n",
        "    clusters= kpoto. predict (data,categorical=[0,1,2])  \n",
        "      \n",
        "    return clusters  \n",
        "  \n",
        "# Menjalankan Fungsi  \n",
        "clusters = modelling(new_df_model)  \n",
        "  \n",
        "print(clusters)  "
      ],
      "metadata": {
        "colab": {
          "base_uri": "https://localhost:8080/"
        },
        "id": "myUc7qnnLoiB",
        "outputId": "ee6109da-d377-4987-ef17-dc6520ae4a8a"
      },
      "execution_count": 11,
      "outputs": [
        {
          "output_type": "stream",
          "name": "stdout",
          "text": [
            "[1]\n"
          ]
        }
      ]
    },
    {
      "cell_type": "markdown",
      "source": [
        "### Menamakan Segmen\n",
        "\n",
        "Sama dengan sebelumnya, kita perlu membuat fungsi untuk melakukan proses ini. Nama cluster  yang sudah didapat di tahap sebelumnya perlu diubah menjadi nama segmen agar lebih mudah diidentifikasi."
      ],
      "metadata": {
        "id": "-LZdvyxOMfPX"
      }
    },
    {
      "cell_type": "code",
      "source": [
        "def menamakan_segmen (data_asli, clusters):  \n",
        "      \n",
        "    # Menggabungkan cluster dan data asli  \n",
        "    final_df = data_asli.copy()  \n",
        "    final_df['cluster'] = clusters\n",
        "      \n",
        "    # Menamakan segmen  \n",
        "    final_df['segmen'] = final_df['cluster'].map({  \n",
        "        0: 'Diamond Young Member',  \n",
        "        1: 'Diamond Senior Member',  \n",
        "        2: 'Silver Students',  \n",
        "        3: 'Gold Young Member',  \n",
        "        4: 'Gold Senior Member'  \n",
        "    })  \n",
        "      \n",
        "    return final_df\n",
        "  \n",
        "# Menjalankan Fungsi  \n",
        "new_final_df = menamakan_segmen (new_df,clusters)  \n",
        "  \n",
        "print(new_final_df)"
      ],
      "metadata": {
        "colab": {
          "base_uri": "https://localhost:8080/"
        },
        "id": "K0ilM5HIMlhA",
        "outputId": "8afef7d3-f522-4c4d-9263-12b0b65ac850"
      },
      "execution_count": 12,
      "outputs": [
        {
          "output_type": "stream",
          "name": "stdout",
          "text": [
            "  Customer_ID Nama Pelanggan  ... cluster                 segmen\n",
            "0    CUST-100           Joko  ...       1  Diamond Senior Member\n",
            "\n",
            "[1 rows x 9 columns]\n"
          ]
        }
      ]
    },
    {
      "cell_type": "markdown",
      "source": [
        "### Kesimpulan\n",
        "Berhasil membuat alur proses untuk mengoperasikan model. Selanjutnya kita dapat menjadwalkan kode ini. Apakah akan dijalankan secara real-time setiap ada data masuk atau secara batch misal satu hari sekali.\n",
        "\n",
        "### Tips:\n",
        "\n",
        "Di industri khususnya untuk mengoperasikan model bisa bermacam-macam caranya. Ada yang membuat dengan python script lalu dibuat interval jam jalannya. Selain itu bisa juga menggunakan bantuan software untuk melakukan deployment. Hal ini akan tergantung di mana kamu bekerja.\n"
      ],
      "metadata": {
        "id": "UYba3DXdNZjQ"
      }
    }
  ]
}